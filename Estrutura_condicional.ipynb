{
  "nbformat": 4,
  "nbformat_minor": 0,
  "metadata": {
    "colab": {
      "provenance": []
    },
    "kernelspec": {
      "name": "python3",
      "display_name": "Python 3"
    },
    "language_info": {
      "name": "python"
    }
  },
  "cells": [
    {
      "cell_type": "markdown",
      "source": [
        "# **Condicional**"
      ],
      "metadata": {
        "id": "FtOND38DbA-V"
      }
    },
    {
      "cell_type": "code",
      "source": [
        "# If\n",
        "if 5 < 10:\n",
        "  print('O numero 5 é menor que o numero 10')"
      ],
      "metadata": {
        "colab": {
          "base_uri": "https://localhost:8080/"
        },
        "id": "vdiB7sc_bFjS",
        "outputId": "874a6482-2349-4a62-ff06-405936ca0ade"
      },
      "execution_count": 3,
      "outputs": [
        {
          "output_type": "stream",
          "name": "stdout",
          "text": [
            "O numero 5 é menor que o numero 10\n"
          ]
        }
      ]
    },
    {
      "cell_type": "code",
      "source": [
        "# If/else\n",
        "num1 = 10\n",
        "num2 = 5\n",
        "if num1 > num2:\n",
        "  print('O num1 é o maior numero')\n",
        "else:\n",
        "  print('O num2 é o maior numero')"
      ],
      "metadata": {
        "colab": {
          "base_uri": "https://localhost:8080/"
        },
        "id": "cS0wU70EbLin",
        "outputId": "fe5c9bb7-3c97-415f-8de6-00c8916f8e43"
      },
      "execution_count": 1,
      "outputs": [
        {
          "output_type": "stream",
          "name": "stdout",
          "text": [
            "O num1 é o maior numero\n"
          ]
        }
      ]
    },
    {
      "cell_type": "code",
      "source": [
        "# If/ Elif/ Else\n",
        "num1 = 10\n",
        "num2 = 10\n",
        "if num1 > num2:\n",
        "  print('O num1 é o maior numero')\n",
        "elif num1 < num2:\n",
        "  print('O num2 é o maior numero')\n",
        "else:\n",
        "  print('Os dois são iguais')"
      ],
      "metadata": {
        "colab": {
          "base_uri": "https://localhost:8080/"
        },
        "id": "-4pofO_obgE5",
        "outputId": "5cbb2eec-449e-434c-c1ae-3a943db2a07c"
      },
      "execution_count": 2,
      "outputs": [
        {
          "output_type": "stream",
          "name": "stdout",
          "text": [
            "Os dois são iguais\n"
          ]
        }
      ]
    },
    {
      "cell_type": "markdown",
      "source": [
        "Condicional com operadores lógicos"
      ],
      "metadata": {
        "id": "inV9NTJPc8P6"
      }
    },
    {
      "cell_type": "code",
      "source": [
        "num1 = 10\n",
        "num2 = 5\n",
        "num3 = 2\n",
        "if (num1 > num2) and (num1 > num3):\n",
        "  print('O num1 é o maior numero')\n",
        "else:\n",
        "  print('O num1 não é o maior numero')"
      ],
      "metadata": {
        "id": "uJwcZ3Ngc_WS"
      },
      "execution_count": null,
      "outputs": []
    }
  ]
}